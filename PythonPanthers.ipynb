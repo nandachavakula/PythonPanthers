{
  "metadata": {
    "kernelspec": {
      "display_name": "Python 3",
      "language": "python",
      "name": "python3"
    },
    "language_info": {
      "codemirror_mode": {
        "name": "ipython",
        "version": 3
      },
      "file_extension": ".py",
      "mimetype": "text/x-python",
      "name": "python",
      "nbconvert_exporter": "python",
      "pygments_lexer": "ipython3",
      "version": "3.6.0"
    }
  },
  "nbformat": 4,
  "nbformat_minor": 0,
  "cells": [
    {
      "cell_type": "markdown",
      "source": "In this kernel I have done data visualisation of the IPL datasets using pandas,Matplotlib and seaborn library and plotted some interesting observations.",
      "metadata": {}
    },
    {
      "cell_type": "code",
      "source": "# This Python 3 environment comes with many helpful analytics libraries installed\n# It is defined by the kaggle/python docker image: https://github.com/kaggle/docker-python\n# For example, here's several helpful packages to load in \n\nimport numpy as np # linear algebra\nimport pandas as pd # data processing, CSV file I/O (e.g. pd.read_csv)\n\n# Input data files are available in the \"../input/\" directory.\n# For example, running this (by clicking run or pressing Shift+Enter) will list the files in the input directory\n\nfrom subprocess import check_output\nprint(check_output([\"ls\", \"../input\"]).decode(\"utf8\"))\n\n# Any results you write to the current directory are saved as output.",
      "execution_count": null,
      "outputs": [],
      "metadata": {}
    },
    {
      "cell_type": "code",
      "source": "#Loading all the necessary libraries\n\nimport numpy as np # linear algebra\nimport pandas as pd # data processing, CSV file I/O (e.g. pd.read_csv)\nimport matplotlib.pyplot as plt #for visualisation\nimport seaborn as sns #for visualisation\n%matplotlib inline",
      "execution_count": null,
      "outputs": [],
      "metadata": {}
    },
    {
      "cell_type": "code",
      "source": "#Reading data from Comma Separated Values files\ndeliveries=pd.read_csv(\"../input/deliveries.csv\")\nmatches=pd.read_csv(\"../input/matches.csv\")",
      "execution_count": null,
      "outputs": [],
      "metadata": {}
    },
    {
      "cell_type": "code",
      "source": "col_names=matches.columns.tolist()\nprint(\"column names:\")\nprint(col_names)",
      "execution_count": null,
      "outputs": [],
      "metadata": {}
    },
    {
      "cell_type": "code",
      "source": "print(\"Sample data:\")\ndeliveries.head(6)",
      "execution_count": null,
      "outputs": [],
      "metadata": {}
    },
    {
      "cell_type": "code",
      "source": "matches.head(6)",
      "execution_count": null,
      "outputs": [],
      "metadata": {}
    },
    {
      "cell_type": "code",
      "source": "#matches.info()\nmatches.describe()",
      "execution_count": null,
      "outputs": [],
      "metadata": {}
    },
    {
      "cell_type": "code",
      "source": "#matches['player_of_match'].head()",
      "execution_count": null,
      "outputs": [],
      "metadata": {}
    },
    {
      "cell_type": "code",
      "source": "player_of_the_match= pd.pivot_table(matches,values=['player_of_match'],index=['season'],columns=['city'],aggfunc='count',margins=False)\n\nplt.figure(figsize=(10,10))\nsns.heatmap(player_of_the_match['player_of_match'],linewidths=.5,annot=True,vmin=0.01,cmap='YlGnBu')\nplt.title('Number of player of the match in cities for particular year')",
      "execution_count": null,
      "outputs": [],
      "metadata": {}
    },
    {
      "cell_type": "code",
      "source": "big_margin=matches[(matches['win_by_runs']>=50) | (matches['win_by_wickets']>=8)]\nbig_margin\nbig_margin.winner.unique()",
      "execution_count": null,
      "outputs": [],
      "metadata": {}
    },
    {
      "cell_type": "code",
      "source": "KKR=big_margin[big_margin['winner']=='Kolkata Knight Riders'].count()\nMI=big_margin[big_margin['winner']=='Mumbai Indians'].count()\nKXP=big_margin[big_margin['winner']=='Kings XI Punjab'].count()\nCSK=big_margin[big_margin['winner']=='Chennai Super Kings'].count()\nDC=big_margin[big_margin['winner']=='Deccan Chargers'].count()\nDD=big_margin[big_margin['winner']=='Delhi Daredevils'].count()\nRC=big_margin[big_margin['winner']=='Royal Challengers Bangalore'].count()\nKT=big_margin[big_margin['winner']=='Kochi Tuskers Kerala'].count()\nSH=big_margin[big_margin['winner']=='Sunrisers Hyderabad'].count()\nRPS=big_margin[big_margin['winner']=='Rising Pune Supergiants'].count()\nRR=big_margin[big_margin['winner']=='Rajasthan Royals'].count()",
      "execution_count": null,
      "outputs": [],
      "metadata": {}
    },
    {
      "cell_type": "code",
      "source": "KKR_winner=KKR['winner']\nMI_winner=MI['winner']\nKXP_winner=KXP['winner']\nCSK_winner=CSK['winner']\nDC_winner=DC['winner']\nDD_winner=DD['winner']\nRC_winner=RC['winner']\nKT_winner=KT['winner']\nSH_winner=SH['winner']\nRPS_winner=RPS['winner']\nRR_winner=RR['winner']",
      "execution_count": null,
      "outputs": [],
      "metadata": {}
    },
    {
      "cell_type": "code",
      "source": "winners=pd.Series([KKR_winner,SH_winner,KXP_winner,RC_winner,DC_winner,DD_winner,CSK_winner,KT_winner,MI_winner,RPS_winner,RR_winner],index=['KKR','SH','KXP','RC','DC','DD','CSK','KT','MI','RPS','RR'])\nwinners_df=pd.DataFrame(winners,columns=['No. of wins by big margin'])\nwinners_df",
      "execution_count": null,
      "outputs": [],
      "metadata": {}
    },
    {
      "cell_type": "code",
      "source": "labels = ['KKR','SH','KXP','RC','DC','DD','CSK','KT','MI','RPS','RR']\nsizes = [14, 4, 9, 21, 5, 14 , 20 ,2 ,18 ,1 , 17]\ncolors = ['#EEE5DE','#FFC1C1','#FF8247','#FF3030','#FFEC8B','#9AC9CB','#FFFFE0','#C0FF3E','#00FFFF','#FFFF00','#C4C4C4']\nexplode = (0, 0, 0, 0.25, 0, 0, 0, 0, 0, 0, 0)  # only \"explode\" the 7th slice (i.e. 'RC')\nplt.pie(sizes, explode=explode, labels=labels, colors=colors,\n        autopct='%1.1f%%', shadow=True, startangle=90,radius=1.5)\nplt.title(\"Winning percentage of teams by large margin(more than 50 runs or by more than 8 wickets)\",x=0,y=-0.3)\n\n#Percentage of wins by team which is greater than or equal to 50 runs or by grater than or equal to 8 wickets",
      "execution_count": null,
      "outputs": [],
      "metadata": {}
    },
    {
      "cell_type": "code",
      "source": "matches['player_of_match'].unique()\nplayer_of_match=[]\nfor p in matches['player_of_match'].unique():\n    player_of_match.append({'Player': p})\n    \ndeliveries['batsman'].unique()\nNo_of_batsman=[]\nfor b in deliveries['batsman'].unique():\n    No_of_batsman.append({'Batsman':b})",
      "execution_count": null,
      "outputs": [],
      "metadata": {}
    },
    {
      "cell_type": "code",
      "source": "pd.DataFrame(player_of_match)",
      "execution_count": null,
      "outputs": [],
      "metadata": {}
    },
    {
      "cell_type": "code",
      "source": "pd.DataFrame(No_of_batsman)",
      "execution_count": null,
      "outputs": [],
      "metadata": {}
    },
    {
      "cell_type": "code",
      "source": "matches_played_KKR=matches[(matches['team1']=='Kolkata Knight Riders') | (matches['team2']=='Kolkata Knight Riders')]\nmatches_played_MI=matches[(matches['team1']=='Mumbai Indians') | (matches['team2']=='Mumbai Indians')]\nmatches_played_KXP=matches[(matches['team1']=='Kings XI Punjab') | (matches['team2']=='Kings XI Punjab')]\nmatches_played_CSK=matches[(matches['team1']=='Chennai Super Kings') | (matches['team2']=='Chennai Super Kings')]\nmatches_played_DC=matches[(matches['team1']=='Deccan Chargers') | (matches['team2']=='Deccan Chargers')]\nmatches_played_DD=matches[(matches['team1']=='Delhi Daredevils') | (matches['team2']=='Delhi Daredevils')]\nmatches_played_RCB=matches[(matches['team1']=='Royal Challengers Bangalore') | (matches['team2']=='Royal Challengers Bangalore')]\nmatches_played_KT=matches[(matches['team1']=='Kochi Tuskers Kerala') | (matches['team2']=='Kochi Tuskers Kerala')]\nmatches_played_SH=matches[(matches['team1']=='Sunrisers Hyderabad') | (matches['team2']=='Sunrisers Hyderabad')]\nmatches_played_RPS=matches[(matches['team1']=='Rising Pune Supergiants') | (matches['team2']=='Rising Pune Supergiants')]\nmatches_played_RR=matches[(matches['team1']=='Rajasthan Royals') | (matches['team2']=='Rajasthan Royals')]\n\nA=matches_played_KKR['id'].count()\nB=matches_played_MI['id'].count()\nC=matches_played_KXP['id'].count()\nD=matches_played_CSK['id'].count()\nE=matches_played_DC['id'].count()\nF=matches_played_DD['id'].count()\nG=matches_played_RCB['id'].count()\nH=matches_played_KT['id'].count()\nI=matches_played_SH['id'].count()\nJ=matches_played_RPS['id'].count()\nK=matches_played_RR['id'].count()\n\nA",
      "execution_count": null,
      "outputs": [],
      "metadata": {}
    },
    {
      "cell_type": "code",
      "source": "matches_won_KKR=matches[matches['winner']=='Kolkata Knight Riders']\nmatches_won_MI=matches[matches['winner']=='Mumbai Indians']\nmatches_won_KXP=matches[matches['winner']=='Kings XI Punjab']\nmatches_won_CSK=matches[matches['winner']=='Chennai Super Kings']\nmatches_won_DC=matches[matches['winner']=='Deccan Chargers']\nmatches_won_DD=matches[matches['winner']=='Delhi Daredevils']\nmatches_won_RCB=matches[matches['winner']=='Royal Challengers Bangalore']\nmatches_won_KT=matches[matches['winner']=='Kochi Tuskers Kerala']\nmatches_won_SH=matches[matches['winner']=='Sunrisers Hyderabad']\nmatches_won_RPS=matches[matches['winner']=='Rising Pune Supergiants']\nmatches_won_RR=matches[matches['winner']=='Rajasthan Royals']\n\n\nO=matches_won_KKR['id'].count()\nP=matches_won_MI['id'].count()\nQ=matches_won_KXP['id'].count()\nR=matches_won_CSK['id'].count()\nS=matches_won_DC['id'].count()\nT=matches_won_DD['id'].count()\nU=matches_won_RCB['id'].count()\nV=matches_won_KT['id'].count()\nW=matches_won_SH['id'].count()\nX=matches_won_RPS['id'].count()\nY=matches_won_RR['id'].count()\n\nO",
      "execution_count": null,
      "outputs": [],
      "metadata": {}
    },
    {
      "cell_type": "code",
      "source": "n_bins = 11\nind = np.arange(n_bins)\nwidth = 0.50\n\nplt.figure(figsize=(10,10))\n\nmatches_played=[A,B,C,D,E,F,G,H,I,J,K]\nmatches_won=[O,P,Q,R,S,T,U,V,W,X,Y]\n\np1 = plt.bar(ind, matches_played, width, color='LightSkyBlue')\np2 = plt.bar(ind, matches_won, width, color='Lime')\n\nplt.ylabel('Number of Matches')\nplt.xlabel('Teams')\nplt.title('Overall performance of the team')\nplt.xticks(ind + width/2., ('KKR', 'MI', 'KXP', 'CSK', 'DC', 'DD', 'RCB', 'KT', 'SH', 'RPS', 'RR'))\nplt.yticks(np.arange(0, 200, 5))\nplt.legend((p1[0], p2[0]), ('matches_played', 'matches_won'))",
      "execution_count": null,
      "outputs": [],
      "metadata": {}
    },
    {
      "cell_type": "code",
      "source": "KKR_toss_won=matches[matches['toss_winner']=='Kolkata Knight Riders'].id.count()\nMI_toss_won=matches[matches['toss_winner']=='Mumbai Indians'].id.count()\nKXP_toss_won=matches[matches['toss_winner']=='Kings XI Punjab'].id.count()\nCSK_toss_won=matches[matches['toss_winner']=='Chennai Super Kings'].id.count()\nDC_toss_won=matches[matches['toss_winner']=='Deccan Chargers'].id.count()\nDD_toss_won=matches[matches['toss_winner']=='Delhi Daredevils'].id.count()\nRCB_toss_won=matches[matches['toss_winner']=='Royal Challengers Bangalore'].id.count()\nKT_toss_won=matches[matches['toss_winner']=='Kochi Tuskers Kerala'].id.count()\nSH_toss_won=matches[matches['toss_winner']=='Sunrisers Hyderabad'].id.count()\nRSP_toss_won=matches[matches['toss_winner']=='Rising Pune Supergiants'].id.count()\nRR_toss_won=matches[matches['toss_winner']=='Rajasthan Royals'].id.count()\n\n\nKKR_match_won=matches[(matches['toss_winner']=='Kolkata Knight Riders') & (matches['winner']=='Kolkata Knight Riders')].id.count()\nMI_match_won=matches[(matches['toss_winner']=='Mumbai Indians') & (matches['winner']=='Mumbai Indians')].id.count()\nKXP_match_won=matches[(matches['toss_winner']=='Kings XI Punjab') & (matches['winner']=='Kings XI Punjab')].id.count()\nCSK_match_won=matches[(matches['toss_winner']=='Chennai Super Kings') & (matches['winner']=='Chennai Super Kings')].id.count()\nDC_match_won=matches[(matches['toss_winner']=='Deccan Chargers') & (matches['winner']=='Deccan Chargers')].id.count()\nDD_match_won=matches[(matches['toss_winner']=='Delhi Daredevils') & (matches['winner']=='Delhi Daredevils')].id.count()\nRCB_match_won=matches[(matches['toss_winner']=='Royal Challengers Bangalore') & (matches['winner']=='Royal Challengers Bangalore')].id.count()\nKT_match_won=matches[(matches['toss_winner']=='Kochi Tuskers Kerala') & (matches['winner']=='Kochi Tuskers Kerala')].id.count()\nSH_match_won=matches[(matches['toss_winner']=='Sunrisers Hyderabad') & (matches['winner']=='Sunrisers Hyderabad')].id.count()\nRSP_match_won=matches[(matches['toss_winner']=='Rising Pune Supergiants') & (matches['winner']=='Rising Pune Supergiants')].id.count()\nRR_match_won=matches[(matches['toss_winner']=='Rajasthan Royals') & (matches['winner']=='Rajasthan Royals')].id.count()",
      "execution_count": null,
      "outputs": [],
      "metadata": {}
    },
    {
      "cell_type": "code",
      "source": "n_bins = 11\nind = np.arange(n_bins)\nwidth = 0.50\n\nplt.figure(figsize=(10,10))\n\ntoss_won=[KKR_toss_won,MI_toss_won,KXP_toss_won,CSK_toss_won,DC_toss_won,DD_toss_won,RCB_toss_won,KT_toss_won,SH_toss_won,RSP_toss_won,RR_toss_won]\nmatch_won=[KKR_match_won,MI_match_won,KXP_match_won,CSK_match_won,DC_match_won,DD_match_won,RCB_match_won,KT_match_won,SH_match_won,RSP_match_won,RR_match_won]\n\np1 = plt.bar(ind, toss_won, width, color='firebrick')\np2 = plt.bar(ind, match_won, width, color='aqua')\n\nplt.ylabel('Toss')\nplt.xlabel('Teams')\nplt.title('Toss factor')\nplt.xticks(ind + width/2., ('KKR', 'MI', 'KXP', 'CSK', 'DC', 'DD', 'RCB', 'KT', 'SH', 'RSP', 'RR'))\nplt.yticks(np.arange(0, 100, 5))\nplt.legend((p1[0], p2[0]), ('toss_won', 'match_won'))",
      "execution_count": null,
      "outputs": [],
      "metadata": {}
    },
    {
      "cell_type": "code",
      "source": "plt.figure(figsize=(8,10))\nmaximum_runs = deliveries.groupby(['batsman'])['batsman_runs'].sum()\nmaximum_runs\nmaximum_runs.sort_values(ascending = False,inplace='True')\nmaximum_runs[:10].plot(x= 'bowler', y = 'runs', kind = 'bar', colormap = 'Pastel2')\nplt.xlabel('Batsmen')\nplt.ylabel('Most Runs in IPL')",
      "execution_count": null,
      "outputs": [],
      "metadata": {}
    }
  ]
}